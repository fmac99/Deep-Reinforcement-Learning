{
 "cells": [
  {
   "cell_type": "markdown",
   "metadata": {},
   "source": [
    "# Collaboration and Competition\n",
    "\n",
    "---\n",
    "\n",
    "In this notebook, you will learn how to use the Unity ML-Agents environment for the third project of the [Deep Reinforcement Learning Nanodegree](https://www.udacity.com/course/deep-reinforcement-learning-nanodegree--nd893) program.\n",
    "\n",
    "### 1. Start the Environment\n",
    "\n",
    "We begin by importing the necessary packages.  If the code cell below returns an error, please revisit the project instructions to double-check that you have installed [Unity ML-Agents](https://github.com/Unity-Technologies/ml-agents/blob/master/docs/Installation.md) and [NumPy](http://www.numpy.org/)."
   ]
  },
  {
   "cell_type": "code",
   "execution_count": 1,
   "metadata": {},
   "outputs": [],
   "source": [
    "from unityagents import UnityEnvironment\n",
    "import torch\n",
    "import numpy as np\n",
    "import multiprocessing as mp\n",
    "from torch.distributions import Normal\n",
    "import torch.nn.functional as F\n",
    "import random\n",
    "import torch\n",
    "import numpy as np\n",
    "from collections import deque\n",
    "import matplotlib.pyplot as plt\n",
    "%matplotlib inline\n"
   ]
  },
  {
   "cell_type": "markdown",
   "metadata": {},
   "source": [
    "Next, we will start the environment!  **_Before running the code cell below_**, change the `file_name` parameter to match the location of the Unity environment that you downloaded.\n",
    "\n",
    "- **Mac**: `\"path/to/Tennis.app\"`\n",
    "- **Windows** (x86): `\"path/to/Tennis_Windows_x86/Tennis.exe\"`\n",
    "- **Windows** (x86_64): `\"path/to/Tennis_Windows_x86_64/Tennis.exe\"`\n",
    "- **Linux** (x86): `\"path/to/Tennis_Linux/Tennis.x86\"`\n",
    "- **Linux** (x86_64): `\"path/to/Tennis_Linux/Tennis.x86_64\"`\n",
    "- **Linux** (x86, headless): `\"path/to/Tennis_Linux_NoVis/Tennis.x86\"`\n",
    "- **Linux** (x86_64, headless): `\"path/to/Tennis_Linux_NoVis/Tennis.x86_64\"`\n",
    "\n",
    "For instance, if you are using a Mac, then you downloaded `Tennis.app`.  If this file is in the same folder as the notebook, then the line below should appear as follows:\n",
    "```\n",
    "env = UnityEnvironment(file_name=\"Tennis.app\")\n",
    "```"
   ]
  },
  {
   "cell_type": "code",
   "execution_count": 2,
   "metadata": {},
   "outputs": [
    {
     "name": "stderr",
     "output_type": "stream",
     "text": [
      "INFO:unityagents:\n",
      "'Academy' started successfully!\n",
      "Unity Academy name: Academy\n",
      "        Number of Brains: 1\n",
      "        Number of External Brains : 1\n",
      "        Lesson number : 0\n",
      "        Reset Parameters :\n",
      "\t\t\n",
      "Unity brain name: TennisBrain\n",
      "        Number of Visual Observations (per agent): 0\n",
      "        Vector Observation space type: continuous\n",
      "        Vector Observation space size (per agent): 8\n",
      "        Number of stacked Vector Observation: 3\n",
      "        Vector Action space type: continuous\n",
      "        Vector Action space size (per agent): 2\n",
      "        Vector Action descriptions: , \n"
     ]
    }
   ],
   "source": [
    "env = UnityEnvironment(file_name='/home/frank/deep-reinforcement-learning/p3_collab-compet/Tennis_Linux/Tennis.x86_64')"
   ]
  },
  {
   "cell_type": "markdown",
   "metadata": {},
   "source": [
    "Environments contain **_brains_** which are responsible for deciding the actions of their associated agents. Here we check for the first brain available, and set it as the default brain we will be controlling from Python."
   ]
  },
  {
   "cell_type": "code",
   "execution_count": 3,
   "metadata": {},
   "outputs": [],
   "source": [
    "# get the default brain\n",
    "brain_name = env.brain_names[0]\n",
    "brain = env.brains[brain_name]"
   ]
  },
  {
   "cell_type": "markdown",
   "metadata": {},
   "source": [
    "### 2. Examine the State and Action Spaces\n",
    "\n",
    "In this environment, two agents control rackets to bounce a ball over a net. If an agent hits the ball over the net, it receives a reward of +0.1.  If an agent lets a ball hit the ground or hits the ball out of bounds, it receives a reward of -0.01.  Thus, the goal of each agent is to keep the ball in play.\n",
    "\n",
    "The observation space consists of 8 variables corresponding to the position and velocity of the ball and racket. Two continuous actions are available, corresponding to movement toward (or away from) the net, and jumping. \n",
    "\n",
    "Run the code cell below to print some information about the environment."
   ]
  },
  {
   "cell_type": "code",
   "execution_count": 4,
   "metadata": {},
   "outputs": [
    {
     "name": "stdout",
     "output_type": "stream",
     "text": [
      "Number of agents: 2\n",
      "Size of each action: 2\n",
      "There are 2 agents. Each observes a state with length: 24\n",
      "The state for the first agent looks like: [ 0.          0.          0.          0.          0.          0.\n",
      "  0.          0.          0.          0.          0.          0.\n",
      "  0.          0.          0.          0.         -6.65278625 -1.5\n",
      " -0.          0.          6.83172083  6.         -0.          0.        ]\n"
     ]
    }
   ],
   "source": [
    "# reset the environment\n",
    "env_info = env.reset(train_mode=True)[brain_name]\n",
    "\n",
    "# number of agents \n",
    "num_agents = len(env_info.agents)\n",
    "print('Number of agents:', num_agents)\n",
    "\n",
    "# size of each action\n",
    "action_size = brain.vector_action_space_size\n",
    "print('Size of each action:', action_size)\n",
    "\n",
    "# examine the state space \n",
    "states = env_info.vector_observations\n",
    "state_size = states.shape[1]\n",
    "print('There are {} agents. Each observes a state with length: {}'.format(states.shape[0], state_size))\n",
    "print('The state for the first agent looks like:', states[0])"
   ]
  },
  {
   "cell_type": "markdown",
   "metadata": {},
   "source": [
    "### 3. Take Random Actions in the Environment\n",
    "\n",
    "In the next code cell, you will learn how to use the Python API to control the agents and receive feedback from the environment.\n",
    "\n",
    "Once this cell is executed, you will watch the agents' performance, if they select actions at random with each time step.  A window should pop up that allows you to observe the agents.\n",
    "\n",
    "Of course, as part of the project, you'll have to change the code so that the agents are able to use their experiences to gradually choose better actions when interacting with the environment!"
   ]
  },
  {
   "cell_type": "code",
   "execution_count": null,
   "metadata": {},
   "outputs": [],
   "source": []
  },
  {
   "cell_type": "markdown",
   "metadata": {},
   "source": [
    "When finished, you can close the environment."
   ]
  },
  {
   "cell_type": "code",
   "execution_count": null,
   "metadata": {},
   "outputs": [],
   "source": []
  },
  {
   "cell_type": "markdown",
   "metadata": {},
   "source": [
    "### 4. It's Your Turn!\n",
    "\n",
    "Now it's your turn to train your own agent to solve the environment!  When training the environment, set `train_mode=True`, so that the line for resetting the environment looks like the following:\n",
    "```python\n",
    "env_info = env.reset(train_mode=True)[brain_name]\n",
    "```"
   ]
  },
  {
   "cell_type": "code",
   "execution_count": 5,
   "metadata": {},
   "outputs": [],
   "source": [
    "\n",
    "import random\n",
    "import torch\n",
    "import numpy as np\n",
    "from collections import deque\n",
    "import matplotlib.pyplot as plt\n",
    "%matplotlib inline\n",
    "\n",
    "from PPOAgent1 import PPO_Agent\n",
    "GAMMA = .99\n",
    "LAMBDA = .96\n",
    "Epsilon = 0.2\n",
    "TMAX=1000\n",
    "MINI_BATCH = 100\n",
    "BATCH_SIZE  = 1000\n",
    "OPT_EPOCHS=6"
   ]
  },
  {
   "cell_type": "code",
   "execution_count": 6,
   "metadata": {},
   "outputs": [],
   "source": [
    "agent = PPO_Agent(24, 2,2,2,BATCH_SIZE,MINI_BATCH,GAMMA,LAMBDA,TMAX,OPT_EPOCHS,Epsilon)"
   ]
  },
  {
   "cell_type": "code",
   "execution_count": null,
   "metadata": {},
   "outputs": [],
   "source": []
  },
  {
   "cell_type": "code",
   "execution_count": 7,
   "metadata": {
    "scrolled": true
   },
   "outputs": [
    {
     "name": "stdout",
     "output_type": "stream",
     "text": [
      "Episode 100\tAverage Score: 0.02\t Score:0.0\t Max Score: 0.1   Min Score: -0.01\n",
      "Episode 200\tAverage Score: 0.02\t Score:0.1\t Max Score: 0.2   Min Score: -0.011\n",
      "Episode 300\tAverage Score: 0.02\t Score:0.0\t Max Score: 0.2   Min Score: -0.011\n",
      "Episode 400\tAverage Score: 0.02\t Score:0.0\t Max Score: 0.2   Min Score: -0.011\n",
      "Episode 500\tAverage Score: 0.02\t Score:0.0\t Max Score: 0.2   Min Score: -0.011\n",
      "Episode 600\tAverage Score: 0.02\t Score:0.0\t Max Score: 0.2   Min Score: -0.011\n",
      "Episode 700\tAverage Score: 0.03\t Score:0.1\t Max Score: 0.2   Min Score: -0.011\n",
      "Episode 800\tAverage Score: 0.02\t Score:0.0\t Max Score: 0.2   Min Score: -0.011\n",
      "Episode 900\tAverage Score: 0.02\t Score:0.0\t Max Score: 0.2   Min Score: -0.011\n",
      "Episode 1000\tAverage Score: 0.02\t Score:0.1\t Max Score: 0.2   Min Score: -0.02\n",
      "Episode 1100\tAverage Score: 0.02\t Score:0.0\t Max Score: 0.2   Min Score: -0.022\n",
      "Episode 1200\tAverage Score: 0.02\t Score:0.0\t Max Score: 0.2   Min Score: -0.022\n",
      "Episode 1300\tAverage Score: 0.02\t Score:0.0\t Max Score: 0.2   Min Score: -0.022\n",
      "Episode 1400\tAverage Score: 0.02\t Score:0.0\t Max Score: 0.2   Min Score: -0.022\n",
      "Episode 1500\tAverage Score: 0.01\t Score:0.0\t Max Score: 0.2   Min Score: -0.022\n",
      "Episode 1600\tAverage Score: 0.01\t Score:0.0\t Max Score: 0.2   Min Score: -0.022\n",
      "Episode 1700\tAverage Score: 0.01\t Score:0.0\t Max Score: 0.2   Min Score: -0.022\n",
      "Episode 1800\tAverage Score: 0.02\t Score:0.1\t Max Score: 0.2   Min Score: -0.022\n",
      "Episode 1900\tAverage Score: 0.02\t Score:0.0\t Max Score: 0.2   Min Score: -0.022\n",
      "Episode 2000\tAverage Score: 0.02\t Score:0.1\t Max Score: 0.2   Min Score: -0.022\n",
      "Episode 2100\tAverage Score: 0.01\t Score:0.09\t Max Score: 0.2   Min Score: -0.02\n",
      "Episode 2200\tAverage Score: 0.02\t Score:0.0\t Max Score: 0.2   Min Score: -0.022\n",
      "Episode 2300\tAverage Score: 0.03\t Score:0.1\t Max Score: 0.2   Min Score: -0.022\n",
      "Episode 2400\tAverage Score: 0.03\t Score:0.0\t Max Score: 0.2   Min Score: -0.022\n",
      "Episode 2500\tAverage Score: 0.02\t Score:0.09\t Max Score: 0.2   Min Score: -0.02\n",
      "Episode 2600\tAverage Score: 0.02\t Score:0.0\t Max Score: 0.2   Min Score: -0.022\n",
      "Episode 2700\tAverage Score: 0.02\t Score:0.0\t Max Score: 0.2   Min Score: -0.022\n",
      "Episode 2800\tAverage Score: 0.01\t Score:0.0\t Max Score: 0.2   Min Score: -0.022\n",
      "Episode 2900\tAverage Score: 0.03\t Score:0.0\t Max Score: 0.2   Min Score: -0.022\n",
      "Episode 3000\tAverage Score: 0.03\t Score:0.09\t Max Score: 0.2   Min Score: -0.02\n",
      "Episode 3100\tAverage Score: 0.03\t Score:0.1\t Max Score: 0.2   Min Score: -0.022\n",
      "Episode 3200\tAverage Score: 0.03\t Score:0.0\t Max Score: 0.2   Min Score: -0.022\n",
      "Episode 3300\tAverage Score: 0.03\t Score:0.0\t Max Score: 0.2   Min Score: -0.022\n",
      "Episode 3400\tAverage Score: 0.03\t Score:0.1\t Max Score: 0.2   Min Score: -0.022\n",
      "Episode 3500\tAverage Score: 0.03\t Score:0.1\t Max Score: 0.2   Min Score: -0.022\n",
      "Episode 3600\tAverage Score: 0.03\t Score:0.0\t Max Score: 0.2   Min Score: -0.022\n",
      "Episode 3700\tAverage Score: 0.03\t Score:0.1\t Max Score: 0.3   Min Score: -0.022\n",
      "Episode 3800\tAverage Score: 0.03\t Score:0.0\t Max Score: 0.3   Min Score: -0.022\n",
      "Episode 3900\tAverage Score: 0.03\t Score:0.0\t Max Score: 0.3   Min Score: -0.022\n",
      "Episode 4000\tAverage Score: 0.02\t Score:0.0\t Max Score: 0.3   Min Score: -0.022\n",
      "Episode 4100\tAverage Score: 0.03\t Score:0.0\t Max Score: 0.3   Min Score: -0.022\n",
      "Episode 4200\tAverage Score: 0.03\t Score:0.0\t Max Score: 0.3   Min Score: -0.022\n",
      "Episode 4300\tAverage Score: 0.03\t Score:0.0\t Max Score: 0.3   Min Score: -0.022\n",
      "Episode 4400\tAverage Score: 0.04\t Score:0.1\t Max Score: 0.3   Min Score: -0.022\n",
      "Episode 4500\tAverage Score: 0.04\t Score:0.0\t Max Score: 0.3   Min Score: -0.022\n",
      "Episode 4600\tAverage Score: 0.03\t Score:0.1\t Max Score: 0.3   Min Score: -0.022\n",
      "Episode 4700\tAverage Score: 0.03\t Score:0.09\t Max Score: 0.3   Min Score: -0.02\n",
      "Episode 4800\tAverage Score: 0.03\t Score:0.0\t Max Score: 0.3   Min Score: -0.022\n",
      "Episode 4900\tAverage Score: 0.03\t Score:0.0\t Max Score: 0.3   Min Score: -0.022\n",
      "Episode 5000\tAverage Score: 0.03\t Score:0.0\t Max Score: 0.3   Min Score: -0.022\n",
      "Episode 5100\tAverage Score: 0.03\t Score:0.0\t Max Score: 0.3   Min Score: -0.022\n",
      "Episode 5200\tAverage Score: 0.03\t Score:0.1\t Max Score: 0.3   Min Score: -0.022\n",
      "Episode 5300\tAverage Score: 0.04\t Score:0.0\t Max Score: 0.3   Min Score: -0.022\n",
      "Episode 5400\tAverage Score: 0.03\t Score:0.0\t Max Score: 0.3   Min Score: -0.022\n",
      "Episode 5500\tAverage Score: 0.04\t Score:0.1\t Max Score: 0.3   Min Score: -0.022\n",
      "Episode 5600\tAverage Score: 0.04\t Score:0.1\t Max Score: 0.3   Min Score: -0.022\n",
      "Episode 5700\tAverage Score: 0.04\t Score:0.1\t Max Score: 0.3   Min Score: -0.022\n",
      "Episode 5800\tAverage Score: 0.05\t Score:0.1\t Max Score: 0.3   Min Score: -0.022\n",
      "Episode 5900\tAverage Score: 0.05\t Score:0.0\t Max Score: 0.3   Min Score: -0.022\n",
      "Episode 6000\tAverage Score: 0.05\t Score:0.1\t Max Score: 0.3   Min Score: -0.022\n",
      "Episode 6100\tAverage Score: 0.04\t Score:0.0\t Max Score: 0.3   Min Score: -0.022\n",
      "Episode 6200\tAverage Score: 0.05\t Score:0.0\t Max Score: 0.3   Min Score: -0.022\n",
      "Episode 6300\tAverage Score: 0.06\t Score:0.09\t Max Score: 0.3   Min Score: -0.02\n",
      "Episode 6400\tAverage Score: 0.05\t Score:0.0\t Max Score: 0.3   Min Score: -0.022\n",
      "Episode 6500\tAverage Score: 0.06\t Score:0.1\t Max Score: 0.3   Min Score: -0.022\n",
      "Episode 6600\tAverage Score: 0.05\t Score:0.1\t Max Score: 0.3   Min Score: -0.022\n",
      "Episode 6700\tAverage Score: 0.05\t Score:0.0\t Max Score: 0.3   Min Score: -0.022\n",
      "Episode 6800\tAverage Score: 0.05\t Score:0.09\t Max Score: 0.3   Min Score: -0.02\n",
      "Episode 6900\tAverage Score: 0.06\t Score:0.0\t Max Score: 0.3   Min Score: -0.022\n",
      "Episode 7000\tAverage Score: 0.07\t Score:0.0\t Max Score: 0.3   Min Score: -0.022\n",
      "Episode 7100\tAverage Score: 0.06\t Score:0.1\t Max Score: 0.3   Min Score: -0.022\n",
      "Episode 7200\tAverage Score: 0.06\t Score:0.1\t Max Score: 0.3   Min Score: -0.022\n",
      "Episode 7300\tAverage Score: 0.05\t Score:0.0\t Max Score: 0.3   Min Score: -0.022\n",
      "Episode 7400\tAverage Score: 0.06\t Score:0.1\t Max Score: 0.3   Min Score: -0.022\n",
      "Episode 7500\tAverage Score: 0.06\t Score:0.0\t Max Score: 0.3   Min Score: -0.022\n",
      "Episode 7600\tAverage Score: 0.06\t Score:0.1\t Max Score: 0.3   Min Score: -0.022\n",
      "Episode 7700\tAverage Score: 0.06\t Score:0.1\t Max Score: 0.3   Min Score: -0.022\n",
      "Episode 7800\tAverage Score: 0.06\t Score:0.0\t Max Score: 0.3   Min Score: -0.022\n",
      "Episode 7900\tAverage Score: 0.06\t Score:0.1\t Max Score: 0.3   Min Score: -0.022\n",
      "Episode 8000\tAverage Score: 0.07\t Score:0.1\t Max Score: 0.3   Min Score: -0.022\n",
      "Episode 8100\tAverage Score: 0.07\t Score:0.09\t Max Score: 0.3   Min Score: -0.02\n",
      "Episode 8200\tAverage Score: 0.07\t Score:0.1\t Max Score: 0.3   Min Score: -0.022\n",
      "Episode 8300\tAverage Score: 0.07\t Score:0.1\t Max Score: 0.3   Min Score: -0.022\n",
      "Episode 8400\tAverage Score: 0.06\t Score:0.09\t Max Score: 0.3   Min Score: -0.02\n",
      "Episode 8500\tAverage Score: 0.06\t Score:0.1\t Max Score: 0.3   Min Score: -0.022\n",
      "Episode 8600\tAverage Score: 0.07\t Score:0.1\t Max Score: 0.3   Min Score: -0.022\n",
      "Episode 8700\tAverage Score: 0.07\t Score:0.0\t Max Score: 0.3   Min Score: -0.022\n",
      "Episode 8800\tAverage Score: 0.08\t Score:0.1\t Max Score: 0.3   Min Score: -0.022\n",
      "Episode 8900\tAverage Score: 0.08\t Score:0.09\t Max Score: 0.3   Min Score: -0.02\n",
      "Episode 9000\tAverage Score: 0.08\t Score:0.1\t Max Score: 0.3   Min Score: -0.022\n",
      "Episode 9100\tAverage Score: 0.07\t Score:0.1\t Max Score: 0.3   Min Score: -0.022\n",
      "Episode 9200\tAverage Score: 0.08\t Score:0.1\t Max Score: 0.3   Min Score: -0.022\n",
      "Episode 9300\tAverage Score: 0.07\t Score:0.0\t Max Score: 0.3   Min Score: -0.022\n",
      "Episode 9400\tAverage Score: 0.09\t Score:0.09\t Max Score: 0.3   Min Score: -0.02\n",
      "Episode 9500\tAverage Score: 0.08\t Score:0.1\t Max Score: 0.3   Min Score: -0.022\n",
      "Episode 9600\tAverage Score: 0.08\t Score:0.09\t Max Score: 0.3   Min Score: -0.02\n",
      "Episode 9700\tAverage Score: 0.09\t Score:0.0\t Max Score: 0.3   Min Score: -0.022\n",
      "Episode 9800\tAverage Score: 0.08\t Score:0.1\t Max Score: 0.3   Min Score: -0.022\n",
      "Episode 9900\tAverage Score: 0.08\t Score:0.1\t Max Score: 0.3   Min Score: -0.022\n",
      "Episode 10000\tAverage Score: 0.07\t Score:0.0\t Max Score: 0.3   Min Score: -0.02\n",
      "Episode 10100\tAverage Score: 0.08\t Score:0.1\t Max Score: 0.3   Min Score: -0.022\n",
      "Episode 10200\tAverage Score: 0.08\t Score:0.1\t Max Score: 0.3   Min Score: -0.022\n"
     ]
    },
    {
     "name": "stdout",
     "output_type": "stream",
     "text": [
      "Episode 10300\tAverage Score: 0.08\t Score:0.1\t Max Score: 0.3   Min Score: -0.022\n",
      "Episode 10400\tAverage Score: 0.08\t Score:0.1\t Max Score: 0.3   Min Score: -0.022\n",
      "Episode 10500\tAverage Score: 0.08\t Score:0.1\t Max Score: 0.3   Min Score: -0.022\n",
      "Episode 10600\tAverage Score: 0.08\t Score:0.1\t Max Score: 0.3   Min Score: -0.022\n",
      "Episode 10700\tAverage Score: 0.09\t Score:0.1\t Max Score: 0.3   Min Score: -0.022\n",
      "Episode 10800\tAverage Score: 0.08\t Score:0.09\t Max Score: 0.3   Min Score: -0.02\n",
      "Episode 10900\tAverage Score: 0.08\t Score:0.1\t Max Score: 0.3   Min Score: -0.022\n",
      "Episode 11000\tAverage Score: 0.09\t Score:0.1\t Max Score: 0.3   Min Score: -0.022\n",
      "Episode 11100\tAverage Score: 0.08\t Score:0.0\t Max Score: 0.3   Min Score: -0.022\n",
      "Episode 11200\tAverage Score: 0.08\t Score:0.0\t Max Score: 0.3   Min Score: -0.022\n",
      "Episode 11300\tAverage Score: 0.10\t Score:0.1\t Max Score: 0.3   Min Score: -0.022\n",
      "Episode 11400\tAverage Score: 0.09\t Score:0.09\t Max Score: 0.3   Min Score: -0.02\n",
      "Episode 11500\tAverage Score: 0.09\t Score:0.1\t Max Score: 0.3   Min Score: -0.022\n",
      "Episode 11600\tAverage Score: 0.08\t Score:0.2\t Max Score: 0.3   Min Score: -0.022\n",
      "Episode 11700\tAverage Score: 0.09\t Score:0.1\t Max Score: 0.3   Min Score: -0.022\n",
      "Episode 11800\tAverage Score: 0.08\t Score:0.1\t Max Score: 0.3   Min Score: -0.022\n",
      "Episode 11900\tAverage Score: 0.09\t Score:0.2\t Max Score: 0.3   Min Score: -0.022\n",
      "Episode 12000\tAverage Score: 0.09\t Score:0.1\t Max Score: 0.3   Min Score: -0.022\n",
      "Episode 12100\tAverage Score: 0.09\t Score:0.0\t Max Score: 0.3   Min Score: -0.022\n",
      "Episode 12200\tAverage Score: 0.09\t Score:0.0\t Max Score: 0.3   Min Score: -0.022\n",
      "Episode 12300\tAverage Score: 0.09\t Score:0.1\t Max Score: 0.3   Min Score: -0.022\n",
      "Episode 12400\tAverage Score: 0.08\t Score:0.0\t Max Score: 0.3   Min Score: -0.022\n",
      "Episode 12500\tAverage Score: 0.09\t Score:0.09\t Max Score: 0.3   Min Score: -0.02\n",
      "Episode 12600\tAverage Score: 0.09\t Score:0.0\t Max Score: 0.3   Min Score: -0.022\n",
      "Episode 12700\tAverage Score: 0.09\t Score:0.1\t Max Score: 0.3   Min Score: -0.022\n",
      "Episode 12800\tAverage Score: 0.10\t Score:0.1\t Max Score: 0.3   Min Score: -0.022\n",
      "Episode 12900\tAverage Score: 0.09\t Score:0.1\t Max Score: 0.3   Min Score: -0.022\n",
      "Episode 13000\tAverage Score: 0.09\t Score:0.1\t Max Score: 0.3   Min Score: -0.022\n",
      "Episode 13100\tAverage Score: 0.10\t Score:0.0\t Max Score: 0.3   Min Score: -0.022\n",
      "Episode 13200\tAverage Score: 0.10\t Score:0.09\t Max Score: 0.3   Min Score: -0.02\n",
      "Episode 13300\tAverage Score: 0.10\t Score:0.2\t Max Score: 0.3   Min Score: -0.022\n",
      "Episode 13400\tAverage Score: 0.11\t Score:0.1\t Max Score: 0.3   Min Score: -0.022\n",
      "Episode 13500\tAverage Score: 0.09\t Score:0.09\t Max Score: 0.3   Min Score: -0.02\n",
      "Episode 13600\tAverage Score: 0.09\t Score:0.1\t Max Score: 0.3   Min Score: -0.022\n",
      "Episode 13700\tAverage Score: 0.10\t Score:0.3\t Max Score: 0.3   Min Score: -0.022\n",
      "Episode 13800\tAverage Score: 0.10\t Score:0.1\t Max Score: 0.3   Min Score: -0.022\n",
      "Episode 13900\tAverage Score: 0.10\t Score:0.09\t Max Score: 0.3   Min Score: -0.02\n",
      "Episode 14000\tAverage Score: 0.11\t Score:0.1\t Max Score: 0.3   Min Score: -0.022\n",
      "Episode 14100\tAverage Score: 0.11\t Score:0.0\t Max Score: 0.3   Min Score: -0.022\n",
      "Episode 14200\tAverage Score: 0.10\t Score:0.1\t Max Score: 0.3   Min Score: -0.022\n",
      "Episode 14300\tAverage Score: 0.12\t Score:0.1\t Max Score: 0.3   Min Score: -0.022\n",
      "Episode 14400\tAverage Score: 0.12\t Score:0.3\t Max Score: 0.6   Min Score: -0.022\n",
      "Episode 14500\tAverage Score: 0.12\t Score:0.0\t Max Score: 0.6   Min Score: -0.022\n",
      "Episode 14600\tAverage Score: 0.12\t Score:0.1\t Max Score: 0.6   Min Score: -0.022\n",
      "Episode 14700\tAverage Score: 0.12\t Score:0.0\t Max Score: 0.6   Min Score: -0.022\n",
      "Episode 14800\tAverage Score: 0.11\t Score:0.1\t Max Score: 0.6   Min Score: -0.022\n",
      "Episode 14900\tAverage Score: 0.11\t Score:0.2\t Max Score: 0.6   Min Score: -0.022\n",
      "Episode 15000\tAverage Score: 0.12\t Score:0.0\t Max Score: 0.6   Min Score: -0.022\n",
      "Episode 15100\tAverage Score: 0.13\t Score:0.1\t Max Score: 0.6   Min Score: -0.022\n",
      "Episode 15200\tAverage Score: 0.13\t Score:0.1\t Max Score: 0.6   Min Score: -0.022\n",
      "Episode 15300\tAverage Score: 0.13\t Score:0.1\t Max Score: 0.6   Min Score: -0.022\n",
      "Episode 15400\tAverage Score: 0.13\t Score:0.09\t Max Score: 0.6   Min Score: -0.02\n",
      "Episode 15500\tAverage Score: 0.13\t Score:0.1\t Max Score: 0.6   Min Score: -0.022\n",
      "Episode 15600\tAverage Score: 0.12\t Score:0.1\t Max Score: 0.6   Min Score: -0.022\n",
      "Episode 15700\tAverage Score: 0.13\t Score:0.5\t Max Score: 0.6   Min Score: -0.022\n",
      "Episode 15800\tAverage Score: 0.13\t Score:0.1\t Max Score: 0.6   Min Score: -0.022\n",
      "Episode 15900\tAverage Score: 0.12\t Score:0.1\t Max Score: 0.6   Min Score: -0.022\n",
      "Episode 16000\tAverage Score: 0.12\t Score:0.1\t Max Score: 0.6   Min Score: -0.022\n",
      "Episode 16100\tAverage Score: 0.13\t Score:0.4\t Max Score: 0.6   Min Score: -0.022\n",
      "Episode 16200\tAverage Score: 0.11\t Score:0.1\t Max Score: 0.6   Min Score: -0.022\n",
      "Episode 16300\tAverage Score: 0.13\t Score:0.09\t Max Score: 0.6   Min Score: -0.02\n",
      "Episode 16400\tAverage Score: 0.14\t Score:0.1\t Max Score: 0.6   Min Score: -0.022\n",
      "Episode 16500\tAverage Score: 0.13\t Score:0.09\t Max Score: 0.6   Min Score: -0.02\n",
      "Episode 16600\tAverage Score: 0.13\t Score:0.09\t Max Score: 0.6   Min Score: -0.02\n",
      "Episode 16700\tAverage Score: 0.14\t Score:0.1\t Max Score: 0.6   Min Score: -0.022\n",
      "Episode 16800\tAverage Score: 0.14\t Score:0.1\t Max Score: 0.6   Min Score: -0.022\n",
      "Episode 16900\tAverage Score: 0.14\t Score:0.09\t Max Score: 0.6   Min Score: -0.02\n",
      "Episode 17000\tAverage Score: 0.13\t Score:0.1\t Max Score: 0.6   Min Score: -0.022\n",
      "Episode 17100\tAverage Score: 0.15\t Score:0.1\t Max Score: 0.7   Min Score: -0.022\n",
      "Episode 17200\tAverage Score: 0.15\t Score:0.1\t Max Score: 0.7   Min Score: -0.022\n",
      "Episode 17300\tAverage Score: 0.15\t Score:0.3\t Max Score: 0.7   Min Score: -0.022\n",
      "Episode 17400\tAverage Score: 0.16\t Score:0.29\t Max Score: 0.7   Min Score: -0.02\n",
      "Episode 17500\tAverage Score: 0.15\t Score:0.1\t Max Score: 0.7   Min Score: -0.022\n",
      "Episode 17600\tAverage Score: 0.15\t Score:0.2\t Max Score: 0.7   Min Score: -0.022\n",
      "Episode 17700\tAverage Score: 0.15\t Score:0.0\t Max Score: 0.7   Min Score: -0.022\n",
      "Episode 17800\tAverage Score: 0.14\t Score:0.1\t Max Score: 0.7   Min Score: -0.022\n",
      "Episode 17900\tAverage Score: 0.16\t Score:0.0\t Max Score: 0.7   Min Score: -0.022\n",
      "Episode 18000\tAverage Score: 0.17\t Score:0.1\t Max Score: 0.7   Min Score: -0.022\n",
      "Episode 18100\tAverage Score: 0.17\t Score:0.0\t Max Score: 0.7   Min Score: -0.022\n",
      "Episode 18200\tAverage Score: 0.16\t Score:0.1\t Max Score: 0.7   Min Score: -0.022\n",
      "Episode 18300\tAverage Score: 0.17\t Score:0.1\t Max Score: 0.7   Min Score: -0.022\n",
      "Episode 18400\tAverage Score: 0.16\t Score:0.1\t Max Score: 0.7   Min Score: -0.022\n",
      "Episode 18500\tAverage Score: 0.20\t Score:0.2\t Max Score: 0.79   Min Score: -0.022\n",
      "Episode 18600\tAverage Score: 0.16\t Score:0.1\t Max Score: 0.79   Min Score: -0.022\n",
      "Episode 18700\tAverage Score: 0.17\t Score:0.19\t Max Score: 0.9   Min Score: -0.022\n",
      "Episode 18800\tAverage Score: 0.15\t Score:0.2\t Max Score: 0.9   Min Score: -0.022\n",
      "Episode 18900\tAverage Score: 0.17\t Score:0.2\t Max Score: 0.9   Min Score: -0.022\n",
      "Episode 19000\tAverage Score: 0.16\t Score:0.5\t Max Score: 0.9   Min Score: -0.022\n",
      "Episode 19100\tAverage Score: 0.17\t Score:0.1\t Max Score: 0.9   Min Score: -0.022\n",
      "Episode 19200\tAverage Score: 0.19\t Score:0.2\t Max Score: 0.9   Min Score: -0.022\n",
      "Episode 19300\tAverage Score: 0.16\t Score:0.1\t Max Score: 0.9   Min Score: -0.022\n",
      "Episode 19400\tAverage Score: 0.20\t Score:0.3\t Max Score: 0.9   Min Score: -0.022\n",
      "Episode 19500\tAverage Score: 0.24\t Score:0.4\t Max Score: 1.3   Min Score: -0.022\n",
      "Episode 19600\tAverage Score: 0.20\t Score:0.0\t Max Score: 1.3   Min Score: -0.022\n",
      "Episode 19700\tAverage Score: 0.22\t Score:0.1\t Max Score: 1.3   Min Score: -0.022\n",
      "Episode 19800\tAverage Score: 0.21\t Score:0.49\t Max Score: 1.3   Min Score: -0.02\n",
      "Episode 19900\tAverage Score: 0.20\t Score:0.1\t Max Score: 1.3   Min Score: -0.022\n",
      "Episode 20000\tAverage Score: 0.20\t Score:0.1\t Max Score: 1.3   Min Score: -0.022\n",
      "Episode 20100\tAverage Score: 0.19\t Score:0.1\t Max Score: 1.3   Min Score: -0.022\n",
      "Episode 20200\tAverage Score: 0.22\t Score:0.2\t Max Score: 1.3   Min Score: -0.022\n",
      "Episode 20300\tAverage Score: 0.25\t Score:0.1\t Max Score: 1.3   Min Score: -0.022\n"
     ]
    },
    {
     "name": "stdout",
     "output_type": "stream",
     "text": [
      "Episode 20400\tAverage Score: 0.25\t Score:0.2\t Max Score: 1.3   Min Score: -0.022\n",
      "Episode 20500\tAverage Score: 0.27\t Score:0.2\t Max Score: 1.3   Min Score: -0.022\n",
      "Episode 20600\tAverage Score: 0.29\t Score:0.29\t Max Score: 1.6   Min Score: -0.02\n",
      "Episode 20700\tAverage Score: 0.31\t Score:0.3\t Max Score: 2.1   Min Score: -0.022\n",
      "Episode 20800\tAverage Score: 0.36\t Score:0.0\t Max Score: 2.1   Min Score: -0.022\n",
      "Episode 20900\tAverage Score: 0.33\t Score:0.5\t Max Score: 2.3   Min Score: -0.022\n",
      "Episode 21000\tAverage Score: 0.32\t Score:0.9\t Max Score: 2.3   Min Score: -0.022\n",
      "Episode 21100\tAverage Score: 0.36\t Score:0.1\t Max Score: 2.3   Min Score: -0.022\n",
      "Episode 21200\tAverage Score: 0.44\t Score:0.2\t Max Score: 2.6   Min Score: -0.022\n",
      "Episode 21292\tAverage Score: 0.50\t Score:1.59\t Max Score: 2.6   Min Score: -0.02\n",
      "Environment solved in 21192 episodes!\tAverage Score: 0.50\n"
     ]
    },
    {
     "data": {
      "image/png": "[encoded data removed]",
      "text/plain": [
       "<Figure size 432x288 with 1 Axes>"
      ]
     },
     "metadata": {
      "needs_background": "light"
     },
     "output_type": "display_data"
    }
   ],
   "source": [
    "def TrainPPO(tmax,episodes = 100000):\n",
    "    scores_list = []\n",
    "    scores_window = deque(maxlen=100) \n",
    "    \n",
    "    for e in range(1,episodes+1):\n",
    "        \n",
    "        env_info = env.reset(train_mode=True)[brain_name]\n",
    "        scores = np.zeros(agent.n_actors)\n",
    "        states = env_info.vector_observations  \n",
    "        while True:\n",
    "            states = torch.tensor(states, dtype=torch.float)\n",
    "            dist = agent.policy_net.forward(states)\n",
    "            actions = dist.sample()\n",
    "            v_states=states.reshape(1,48)\n",
    "            value = agent.value_target.forward(v_states)\n",
    "            probs = dist.log_prob(actions).sum(dim=1)\n",
    "            actions = np.clip(actions.cpu().detach().numpy(),-1,1)\n",
    "            env_info = env.step(actions)[brain_name]\n",
    "            rewards = env_info.rewards\n",
    "            dones = env_info.local_done\n",
    "            agent.step(states.cpu().detach().numpy(),v_states,actions,probs,value,rewards,dones)\n",
    "            next_states = env_info.vector_observations\n",
    "            scores += env_info.rewards\n",
    "            states = next_states\n",
    "            \n",
    "            \n",
    "            if np.any(dones):\n",
    "                break\n",
    "    \n",
    "        max_score = np.max(scores)\n",
    "        scores_window.append(max_score)\n",
    "        scores_list.append(scores)\n",
    "\n",
    "        \n",
    "    \n",
    "        print('\\rEpisode {}\\tAverage Score: {:.2f}\\t Score:{}\\t Max Score: {}   Min Score: {}'.format(e, np.mean(scores_window),np.round(max_score,5),np.round(np.max(scores_list),5),np.round(np.min(scores_list),5)) ,end=\"\")\n",
    "        if e % 100 == 0:\n",
    "            print('\\rEpisode {}\\tAverage Score: {:.2f}'.format(e, np.mean(scores_window)))\n",
    "        if np.mean(scores_window)>=0.5:\n",
    "            print('\\nEnvironment solved in {:d} episodes!\\tAverage Score: {:.2f}'.format(e-100, np.mean(scores_window)))\n",
    "            torch.save(agent.policy_net.state_dict(), 'PPOPolicycheckpoint.pth')\n",
    "            torch.save(agent.value_target.state_dict(), 'PPOValuecheckpoint.pth')\n",
    "            break\n",
    "        \n",
    "    \n",
    "    return scores_list\n",
    "\n",
    "\n",
    "\n",
    "            \n",
    "            \n",
    "                \n",
    "\n",
    "scores = TrainPPO(TMAX)\n",
    "\n",
    "# plot the scores\n",
    "fig = plt.figure()\n",
    "ax = fig.add_subplot(111)\n",
    "plt.plot(np.arange(len(scores)), scores)\n",
    "plt.ylabel('Score')\n",
    "plt.xlabel('Episode #')\n",
    "plt.show()\n",
    "    "
   ]
  },
  {
   "cell_type": "code",
   "execution_count": null,
   "metadata": {},
   "outputs": [],
   "source": []
  },
  {
   "cell_type": "code",
   "execution_count": 8,
   "metadata": {},
   "outputs": [],
   "source": [
    "env.close()"
   ]
  },
  {
   "cell_type": "code",
   "execution_count": 9,
   "metadata": {},
   "outputs": [
    {
     "ename": "UnityEnvironmentException",
     "evalue": "No Unity environment is loaded.",
     "output_type": "error",
     "traceback": [
      "\u001b[0;31m---------------------------------------------------------------------------\u001b[0m",
      "\u001b[0;31mUnityEnvironmentException\u001b[0m                 Traceback (most recent call last)",
      "\u001b[0;32m<ipython-input-9-8b406d54d2d1>\u001b[0m in \u001b[0;36m<module>\u001b[0;34m\u001b[0m\n\u001b[0;32m----> 1\u001b[0;31m \u001b[0menv_info\u001b[0m \u001b[0;34m=\u001b[0m \u001b[0menv\u001b[0m\u001b[0;34m.\u001b[0m\u001b[0mreset\u001b[0m\u001b[0;34m(\u001b[0m\u001b[0mtrain_mode\u001b[0m\u001b[0;34m=\u001b[0m\u001b[0;32mTrue\u001b[0m\u001b[0;34m)\u001b[0m\u001b[0;34m[\u001b[0m\u001b[0mbrain_name\u001b[0m\u001b[0;34m]\u001b[0m\u001b[0;34m\u001b[0m\u001b[0;34m\u001b[0m\u001b[0m\n\u001b[0m\u001b[1;32m      2\u001b[0m \u001b[0mscores\u001b[0m \u001b[0;34m=\u001b[0m \u001b[0mnp\u001b[0m\u001b[0;34m.\u001b[0m\u001b[0mzeros\u001b[0m\u001b[0;34m(\u001b[0m\u001b[0magent\u001b[0m\u001b[0;34m.\u001b[0m\u001b[0mn_actors\u001b[0m\u001b[0;34m)\u001b[0m\u001b[0;34m\u001b[0m\u001b[0;34m\u001b[0m\u001b[0m\n\u001b[1;32m      3\u001b[0m \u001b[0mstates\u001b[0m \u001b[0;34m=\u001b[0m \u001b[0menv_info\u001b[0m\u001b[0;34m.\u001b[0m\u001b[0mvector_observations\u001b[0m\u001b[0;34m\u001b[0m\u001b[0;34m\u001b[0m\u001b[0m\n\u001b[1;32m      4\u001b[0m \u001b[0;32mfor\u001b[0m \u001b[0mt\u001b[0m \u001b[0;32min\u001b[0m \u001b[0mrange\u001b[0m\u001b[0;34m(\u001b[0m\u001b[0;36m1\u001b[0m\u001b[0;34m)\u001b[0m\u001b[0;34m:\u001b[0m\u001b[0;34m\u001b[0m\u001b[0;34m\u001b[0m\u001b[0m\n\u001b[1;32m      5\u001b[0m     \u001b[0mstates\u001b[0m \u001b[0;34m=\u001b[0m \u001b[0mtorch\u001b[0m\u001b[0;34m.\u001b[0m\u001b[0mtensor\u001b[0m\u001b[0;34m(\u001b[0m\u001b[0mstates\u001b[0m\u001b[0;34m,\u001b[0m \u001b[0mdtype\u001b[0m\u001b[0;34m=\u001b[0m\u001b[0mtorch\u001b[0m\u001b[0;34m.\u001b[0m\u001b[0mfloat\u001b[0m\u001b[0;34m)\u001b[0m\u001b[0;34m\u001b[0m\u001b[0;34m\u001b[0m\u001b[0m\n",
      "\u001b[0;32m~/drlnd/lib/python3.6/site-packages/unityagents/environment.py\u001b[0m in \u001b[0;36mreset\u001b[0;34m(self, train_mode, config, lesson)\u001b[0m\n\u001b[1;32m    270\u001b[0m             \u001b[0;32mreturn\u001b[0m \u001b[0ms\u001b[0m\u001b[0;34m[\u001b[0m\u001b[0;36m0\u001b[0m\u001b[0;34m]\u001b[0m\u001b[0;34m\u001b[0m\u001b[0;34m\u001b[0m\u001b[0m\n\u001b[1;32m    271\u001b[0m         \u001b[0;32melse\u001b[0m\u001b[0;34m:\u001b[0m\u001b[0;34m\u001b[0m\u001b[0;34m\u001b[0m\u001b[0m\n\u001b[0;32m--> 272\u001b[0;31m             \u001b[0;32mraise\u001b[0m \u001b[0mUnityEnvironmentException\u001b[0m\u001b[0;34m(\u001b[0m\u001b[0;34m\"No Unity environment is loaded.\"\u001b[0m\u001b[0;34m)\u001b[0m\u001b[0;34m\u001b[0m\u001b[0;34m\u001b[0m\u001b[0m\n\u001b[0m\u001b[1;32m    273\u001b[0m \u001b[0;34m\u001b[0m\u001b[0m\n\u001b[1;32m    274\u001b[0m     \u001b[0;32mdef\u001b[0m \u001b[0mstep\u001b[0m\u001b[0;34m(\u001b[0m\u001b[0mself\u001b[0m\u001b[0;34m,\u001b[0m  \u001b[0mvector_action\u001b[0m\u001b[0;34m=\u001b[0m\u001b[0;32mNone\u001b[0m\u001b[0;34m,\u001b[0m \u001b[0mmemory\u001b[0m\u001b[0;34m=\u001b[0m\u001b[0;32mNone\u001b[0m\u001b[0;34m,\u001b[0m \u001b[0mtext_action\u001b[0m\u001b[0;34m=\u001b[0m\u001b[0;32mNone\u001b[0m\u001b[0;34m)\u001b[0m \u001b[0;34m->\u001b[0m \u001b[0mAllBrainInfo\u001b[0m\u001b[0;34m:\u001b[0m\u001b[0;34m\u001b[0m\u001b[0;34m\u001b[0m\u001b[0m\n",
      "\u001b[0;31mUnityEnvironmentException\u001b[0m: No Unity environment is loaded."
     ]
    }
   ],
   "source": [
    "env_info = env.reset(train_mode=True)[brain_name]\n",
    "scores = np.zeros(agent.n_actors)\n",
    "states = env_info.vector_observations  \n",
    "for t in range(1):\n",
    "    states = torch.tensor(states, dtype=torch.float)\n",
    "    dist = agent.policy_net.forward(states)\n",
    "    actions = dist.sample()\n",
    "    v_states=states.reshape(1,48)\n",
    "    value = agent.value_target.forward(v_states)\n",
    "    probs = dist.log_prob(actions).sum(dim=1)\n",
    "    actions = np.clip(actions.cpu().detach().numpy(),-1,1)\n",
    "    env_info = env.step(actions)[brain_name]\n",
    "    rewards = env_info.rewards\n",
    "    dones = env_info.local_done\n",
    "    agent.step(states.cpu().detach().numpy(),v_states,actions,probs,value,rewards,dones)\n",
    "    next_states = env_info.vector_observations\n",
    "    scores += env_info.rewards\n",
    "    states = next_states\n"
   ]
  },
  {
   "cell_type": "code",
   "execution_count": null,
   "metadata": {},
   "outputs": [],
   "source": []
  },
  {
   "cell_type": "code",
   "execution_count": null,
   "metadata": {},
   "outputs": [],
   "source": []
  },
  {
   "cell_type": "code",
   "execution_count": null,
   "metadata": {},
   "outputs": [],
   "source": []
  },
  {
   "cell_type": "code",
   "execution_count": null,
   "metadata": {},
   "outputs": [],
   "source": []
  },
  {
   "cell_type": "code",
   "execution_count": null,
   "metadata": {},
   "outputs": [],
   "source": []
  },
  {
   "cell_type": "code",
   "execution_count": null,
   "metadata": {},
   "outputs": [],
   "source": []
  },
  {
   "cell_type": "code",
   "execution_count": null,
   "metadata": {},
   "outputs": [],
   "source": []
  },
  {
   "cell_type": "code",
   "execution_count": null,
   "metadata": {},
   "outputs": [],
   "source": []
  },
  {
   "cell_type": "code",
   "execution_count": null,
   "metadata": {},
   "outputs": [],
   "source": []
  },
  {
   "cell_type": "code",
   "execution_count": null,
   "metadata": {},
   "outputs": [],
   "source": []
  },
  {
   "cell_type": "code",
   "execution_count": null,
   "metadata": {},
   "outputs": [],
   "source": []
  },
  {
   "cell_type": "code",
   "execution_count": null,
   "metadata": {},
   "outputs": [],
   "source": []
  },
  {
   "cell_type": "code",
   "execution_count": null,
   "metadata": {},
   "outputs": [],
   "source": []
  },
  {
   "cell_type": "code",
   "execution_count": null,
   "metadata": {},
   "outputs": [],
   "source": []
  },
  {
   "cell_type": "code",
   "execution_count": null,
   "metadata": {},
   "outputs": [],
   "source": []
  },
  {
   "cell_type": "code",
   "execution_count": null,
   "metadata": {},
   "outputs": [],
   "source": []
  },
  {
   "cell_type": "code",
   "execution_count": null,
   "metadata": {},
   "outputs": [],
   "source": []
  }
 ],
 "metadata": {
  "kernelspec": {
   "display_name": "drlnd",
   "language": "python",
   "name": "drlnd"
  },
  "language_info": {
   "codemirror_mode": {
    "name": "ipython",
    "version": 3
   },
   "file_extension": ".py",
   "mimetype": "text/x-python",
   "name": "python",
   "nbconvert_exporter": "python",
   "pygments_lexer": "ipython3",
   "version": "3.6.9"
  }
 },
 "nbformat": 4,
 "nbformat_minor": 2
}
