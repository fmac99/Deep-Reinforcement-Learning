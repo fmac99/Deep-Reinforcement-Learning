{
 "cells": [
  {
   "cell_type": "markdown",
   "metadata": {},
   "source": [
    "# Continuous Control\n",
    "\n",
    "---\n",
    "\n",
    "In this notebook, you will learn how to use the Unity ML-Agents environment for the second project of the [Deep Reinforcement Learning Nanodegree](https://www.udacity.com/course/deep-reinforcement-learning-nanodegree--nd893) program.\n",
    "\n",
    "### 1. Start the Environment\n",
    "\n",
    "We begin by importing the necessary packages.  If the code cell below returns an error, please revisit the project instructions to double-check that you have installed [Unity ML-Agents](https://github.com/Unity-Technologies/ml-agents/blob/master/docs/Installation.md) and [NumPy](http://www.numpy.org/)."
   ]
  },
  {
   "cell_type": "code",
   "execution_count": 1,
   "metadata": {},
   "outputs": [],
   "source": [
    "from unityagents import UnityEnvironment\n",
    "import torch\n",
    "import numpy as np\n",
    "import multiprocessing as mp\n",
    "from torch.distributions import Normal\n",
    "\n",
    "import torch.nn.functional as F\n",
    "import random\n",
    "import torch\n",
    "import numpy as np\n",
    "from collections import deque\n",
    "import matplotlib.pyplot as plt\n",
    "%matplotlib inline\n",
    "\n"
   ]
  },
  {
   "cell_type": "markdown",
   "metadata": {},
   "source": [
    "Next, we will start the environment!  **_Before running the code cell below_**, change the `file_name` parameter to match the location of the Unity environment that you downloaded.\n",
    "\n",
    "- **Mac**: `\"path/to/Reacher.app\"`\n",
    "- **Windows** (x86): `\"path/to/Reacher_Windows_x86/Reacher.exe\"`\n",
    "- **Windows** (x86_64): `\"path/to/Reacher_Windows_x86_64/Reacher.exe\"`\n",
    "- **Linux** (x86): `\"path/to/Reacher_Linux/Reacher.x86\"`\n",
    "- **Linux** (x86_64): `\"path/to/Reacher_Linux/Reacher.x86_64\"`\n",
    "- **Linux** (x86, headless): `\"path/to/Reacher_Linux_NoVis/Reacher.x86\"`\n",
    "- **Linux** (x86_64, headless): `\"path/to/Reacher_Linux_NoVis/Reacher.x86_64\"`\n",
    "\n",
    "For instance, if you are using a Mac, then you downloaded `Reacher.app`.  If this file is in the same folder as the notebook, then the line below should appear as follows:\n",
    "```\n",
    "env = UnityEnvironment(file_name=\"Reacher.app\")\n",
    "```"
   ]
  },
  {
   "cell_type": "code",
   "execution_count": 2,
   "metadata": {},
   "outputs": [
    {
     "name": "stderr",
     "output_type": "stream",
     "text": [
      "INFO:unityagents:\n",
      "'Academy' started successfully!\n",
      "Unity Academy name: Academy\n",
      "        Number of Brains: 1\n",
      "        Number of External Brains : 1\n",
      "        Lesson number : 0\n",
      "        Reset Parameters :\n",
      "\t\tgoal_size -> 5.0\n",
      "\t\tgoal_speed -> 1.0\n",
      "Unity brain name: ReacherBrain\n",
      "        Number of Visual Observations (per agent): 0\n",
      "        Vector Observation space type: continuous\n",
      "        Vector Observation space size (per agent): 33\n",
      "        Number of stacked Vector Observation: 1\n",
      "        Vector Action space type: continuous\n",
      "        Vector Action space size (per agent): 4\n",
      "        Vector Action descriptions: , , , \n"
     ]
    }
   ],
   "source": [
    "env = UnityEnvironment(file_name='*filepath_to_env*/Reacher_Linux/Reacher.x86_64')"
   ]
  },
  {
   "cell_type": "markdown",
   "metadata": {},
   "source": [
    "Environments contain **_brains_** which are responsible for deciding the actions of their associated agents. Here we check for the first brain available, and set it as the default brain we will be controlling from Python."
   ]
  },
  {
   "cell_type": "code",
   "execution_count": 3,
   "metadata": {},
   "outputs": [],
   "source": [
    "# get the default brain\n",
    "brain_name = env.brain_names[0]\n",
    "brain = env.brains[brain_name]\n"
   ]
  },
  {
   "cell_type": "code",
   "execution_count": null,
   "metadata": {},
   "outputs": [],
   "source": []
  },
  {
   "cell_type": "code",
   "execution_count": null,
   "metadata": {},
   "outputs": [],
   "source": []
  },
  {
   "cell_type": "markdown",
   "metadata": {},
   "source": [
    "### 2. Examine the State and Action Spaces\n",
    "\n",
    "In this environment, a double-jointed arm can move to target locations. A reward of `+0.1` is provided for each step that the agent's hand is in the goal location. Thus, the goal of your agent is to maintain its position at the target location for as many time steps as possible.\n",
    "\n",
    "The observation space consists of `33` variables corresponding to position, rotation, velocity, and angular velocities of the arm.  Each action is a vector with four numbers, corresponding to torque applicable to two joints.  Every entry in the action vector must be a number between `-1` and `1`.\n",
    "\n",
    "Run the code cell below to print some information about the environment."
   ]
  },
  {
   "cell_type": "code",
   "execution_count": 4,
   "metadata": {},
   "outputs": [
    {
     "name": "stdout",
     "output_type": "stream",
     "text": [
      "Number of agents: 20\n",
      "Size of each action: 4\n",
      "There are 20 agents. Each observes a state with length: 33\n",
      "The state for the first agent looks like: [ 0.00000000e+00 -4.00000000e+00  0.00000000e+00  1.00000000e+00\n",
      " -0.00000000e+00 -0.00000000e+00 -4.37113883e-08  0.00000000e+00\n",
      "  0.00000000e+00  0.00000000e+00  0.00000000e+00  0.00000000e+00\n",
      "  0.00000000e+00  0.00000000e+00 -1.00000000e+01  0.00000000e+00\n",
      "  1.00000000e+00 -0.00000000e+00 -0.00000000e+00 -4.37113883e-08\n",
      "  0.00000000e+00  0.00000000e+00  0.00000000e+00  0.00000000e+00\n",
      "  0.00000000e+00  0.00000000e+00  5.75471878e+00 -1.00000000e+00\n",
      "  5.55726624e+00  0.00000000e+00  1.00000000e+00  0.00000000e+00\n",
      " -1.68164849e-01]\n",
      "[932, 944, 946, 962, 980, 990, 1018, 1032, 1044, 1054, 1086, 1090, 1094, 1106, 1128, 1138, 1170, 1188, 1194, 1208]\n"
     ]
    }
   ],
   "source": [
    "# reset the environment\n",
    "env_info = env.reset(train_mode=True)[brain_name]\n",
    "\n",
    "# number of agents\n",
    "num_agents = len(env_info.agents)\n",
    "print('Number of agents:', num_agents)\n",
    "\n",
    "# size of each action\n",
    "\n",
    "action_size = brain.vector_action_space_size\n",
    "print('Size of each action:', action_size)\n",
    "\n",
    "# examine the state space \n",
    "states = env_info.vector_observations\n",
    "state_size = states.shape[1]\n",
    "print('There are {} agents. Each observes a state with length: {}'.format(states.shape[0], state_size))\n",
    "print('The state for the first agent looks like:', states[0])\n",
    "print(env_info.agents)"
   ]
  },
  {
   "cell_type": "code",
   "execution_count": 5,
   "metadata": {},
   "outputs": [],
   "source": [
    "env_info=env.reset(train_mode=True)[brain_name]\n",
    "\n",
    "from PPOAgent2 import PPO_Agent"
   ]
  },
  {
   "cell_type": "code",
   "execution_count": 6,
   "metadata": {},
   "outputs": [],
   "source": [
    "agent = PPO_Agent(state_size=33, action_size=4, random_seed=20, n_actors=len(env_info.agents))\n",
    "GAMMA = .99\n",
    "LAMBDA = .95\n",
    "Epsilon = 0.1\n",
    "#Beta = .02\n",
    "TMAX=1000\n",
    "MINI_BATCH = 250\n",
    "BATCH_SIZE  = 1000\n",
    "iterations=10"
   ]
  },
  {
   "cell_type": "code",
   "execution_count": 7,
   "metadata": {
    "scrolled": false
   },
   "outputs": [
    {
     "name": "stdout",
     "output_type": "stream",
     "text": [
      "Episode 100\tAverage Score: 0.42\t Score:0.6474999855272472\t Max Score: 2.87   Min Score: 0.0\n",
      "Episode 200\tAverage Score: 1.25\t Score:1.707499961834401\t Max Score: 4.41   Min Score: 0.00\n",
      "Episode 300\tAverage Score: 1.86\t Score:2.067499953787774\t Max Score: 4.97   Min Score: 0.00\n",
      "Episode 400\tAverage Score: 2.84\t Score:3.614499919209629\t Max Score: 8.31   Min Score: 0.00\n",
      "Episode 500\tAverage Score: 3.93\t Score:4.467999900132417\t Max Score: 10.1   Min Score: 0.00\n",
      "Episode 600\tAverage Score: 5.93\t Score:7.394499834720046\t Max Score: 14.42   Min Score: 0.00\n",
      "Episode 700\tAverage Score: 9.43\t Score:13.347499701660126\t Max Score: 29.74   Min Score: 0.0\n",
      "Episode 800\tAverage Score: 15.91\t Score:20.675499537866564\t Max Score: 39.42   Min Score: 0.0\n",
      "Episode 900\tAverage Score: 30.15\t Score:36.64999918080866\t Max Score: 39.47   Min Score: 0.00\n",
      "\n",
      "Environment solved in 800 episodes!\tAverage Score: 30.15\n"
     ]
    },
    {
     "data": {
      "image/png": "[encoded data removed]",
      "text/plain": [
       "<Figure size 432x288 with 1 Axes>"
      ]
     },
     "metadata": {
      "needs_background": "light"
     },
     "output_type": "display_data"
    }
   ],
   "source": [
    "def TrainPPO(eps,tmax,episodes = 10000):\n",
    "    scores_list = []\n",
    "    scores_window = deque(maxlen=100) \n",
    "    \n",
    "    for e in range(1,episodes+1):\n",
    "        \n",
    "        env_info = env.reset(train_mode=True)[brain_name]\n",
    "        scores = np.zeros(agent.n_actors)\n",
    "        states = env_info.vector_observations  \n",
    "        state_list = []\n",
    "        action_list = []\n",
    "        probability_list = []\n",
    "        entropy_list = []\n",
    "        value_list = []\n",
    "        reward_list = []\n",
    "        for t in range(tmax):\n",
    "            state_list.append(states)\n",
    "            states = torch.tensor(states, dtype=torch.float)\n",
    "            dist = agent.policy_net.forward(states)\n",
    "            actions = dist.sample()\n",
    "            value = agent.value_target.forward(states)\n",
    "            value_list.append(value)\n",
    "            probs = dist.log_prob(actions).sum(dim=1)\n",
    "            probability_list.append(probs)\n",
    "            actions = np.clip(actions.cpu().detach().numpy(),-1,1)\n",
    "            action_list.append(actions)\n",
    "            env_info = env.step(actions)[brain_name]\n",
    "            next_states = env_info.vector_observations  \n",
    "            rewards = env_info.rewards\n",
    "            reward_list.append(rewards)\n",
    "            dones = env_info.local_done\n",
    "            scores += env_info.rewards\n",
    "            states = next_states\n",
    "            \n",
    "            \n",
    "            if np.any(dones):\n",
    "                break\n",
    "        \n",
    "        states_t =torch.tensor(state_list,dtype=torch.float)\n",
    "        value_est = agent.Value_Estimation(reward_list,GAMMA,value_list)\n",
    "        \n",
    "        advantages = agent.Advantage_Estimation(value_list,reward_list,GAMMA,LAMBDA,TMAX)\n",
    "        advantages = advantages.detach().numpy()\n",
    "        scores_window.append(scores)\n",
    "        scores_list.append(scores)\n",
    "\n",
    "        \n",
    "        for i in range(iterations):\n",
    "            for _ in range(BATCH_SIZE//MINI_BATCH):\n",
    "                batch=agent.MakeMinibatch(state_list,value_list[:-1],value_est,\\\n",
    "                                       probability_list,advantages,action_list,TMAX,MINI_BATCH)\n",
    "          \n",
    "                agent.Learn(batch.get(\"states\"),batch.get(\"value_est\")\\\n",
    "                            ,batch.get(\"probs\"),batch.get(\"advs\"),batch.get(\"actions\"),Epsilon,MINI_BATCH)\n",
    "                batch.clear()\n",
    "            \n",
    "\n",
    "                            \n",
    "       \n",
    "        \n",
    "\n",
    "        print('\\rEpisode {}\\tAverage Score: {:.2f}\\t Score:{}\\t Max Score: {}   Min Score: {}'.format(e, np.mean(scores_window),np.mean(scores),np.round(np.max(scores_list),5),np.min(scores_list)) ,end=\"\")\n",
    "        if e % 100 == 0:\n",
    "            print('\\rEpisode {}\\tAverage Score: {:.2f}'.format(e, np.mean(scores_window)))\n",
    "        if np.mean(scores_window)>=30.0:\n",
    "            print('\\nEnvironment solved in {:d} episodes!\\tAverage Score: {:.2f}'.format(e-100, np.mean(scores_window)))\n",
    "            torch.save(agent.policy_net.state_dict(), 'PPOPolicycheckpoint2.pth')\n",
    "            torch.save(agent.value_target.state_dict(), 'PPOValuecheckpoint2.pth')\n",
    "            break\n",
    "        \n",
    "    \n",
    "    return scores_list\n",
    "\n",
    "\n",
    "\n",
    "            \n",
    "            \n",
    "                \n",
    "\n",
    "scores = TrainPPO(Epsilon,TMAX)\n",
    "\n",
    "# plot the scores\n",
    "fig = plt.figure()\n",
    "ax = fig.add_subplot(111)\n",
    "plt.plot(np.arange(len(scores)), scores)\n",
    "plt.ylabel('Score')\n",
    "plt.xlabel('Episode #')\n",
    "plt.show()\n",
    "    \n"
   ]
  },
  {
   "cell_type": "code",
   "execution_count": null,
   "metadata": {},
   "outputs": [],
   "source": []
  },
  {
   "cell_type": "code",
   "execution_count": 8,
   "metadata": {},
   "outputs": [],
   "source": [
    "env.close()"
   ]
  },
  {
   "cell_type": "code",
   "execution_count": null,
   "metadata": {},
   "outputs": [],
   "source": []
  },
  {
   "cell_type": "code",
   "execution_count": null,
   "metadata": {},
   "outputs": [],
   "source": []
  },
  {
   "cell_type": "code",
   "execution_count": null,
   "metadata": {},
   "outputs": [],
   "source": []
  },
  {
   "cell_type": "code",
   "execution_count": null,
   "metadata": {},
   "outputs": [],
   "source": []
  },
  {
   "cell_type": "code",
   "execution_count": null,
   "metadata": {},
   "outputs": [],
   "source": []
  },
  {
   "cell_type": "code",
   "execution_count": null,
   "metadata": {},
   "outputs": [],
   "source": []
  },
  {
   "cell_type": "code",
   "execution_count": null,
   "metadata": {},
   "outputs": [],
   "source": []
  },
  {
   "cell_type": "code",
   "execution_count": null,
   "metadata": {},
   "outputs": [],
   "source": []
  },
  {
   "cell_type": "code",
   "execution_count": null,
   "metadata": {},
   "outputs": [],
   "source": []
  },
  {
   "cell_type": "code",
   "execution_count": null,
   "metadata": {},
   "outputs": [],
   "source": []
  },
  {
   "cell_type": "code",
   "execution_count": null,
   "metadata": {},
   "outputs": [],
   "source": []
  },
  {
   "cell_type": "code",
   "execution_count": null,
   "metadata": {},
   "outputs": [],
   "source": []
  },
  {
   "cell_type": "code",
   "execution_count": null,
   "metadata": {},
   "outputs": [],
   "source": []
  },
  {
   "cell_type": "code",
   "execution_count": null,
   "metadata": {},
   "outputs": [],
   "source": []
  },
  {
   "cell_type": "code",
   "execution_count": null,
   "metadata": {},
   "outputs": [],
   "source": []
  },
  {
   "cell_type": "code",
   "execution_count": null,
   "metadata": {},
   "outputs": [],
   "source": []
  },
  {
   "cell_type": "code",
   "execution_count": null,
   "metadata": {},
   "outputs": [],
   "source": []
  }
 ],
 "metadata": {
  "kernelspec": {
   "display_name": "drlnd",
   "language": "python",
   "name": "drlnd"
  },
  "language_info": {
   "codemirror_mode": {
    "name": "ipython",
    "version": 3
   },
   "file_extension": ".py",
   "mimetype": "text/x-python",
   "name": "python",
   "nbconvert_exporter": "python",
   "pygments_lexer": "ipython3",
   "version": "3.6.9"
  }
 },
 "nbformat": 4,
 "nbformat_minor": 2
}
