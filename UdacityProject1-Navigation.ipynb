{
 "cells": [
  {
   "cell_type": "markdown",
   "metadata": {},
   "source": [
    "# Navigation\n",
    "\n",
    "---\n",
    "\n",
    "In this notebook, you will learn how to use the Unity ML-Agents environment for the first project of the [Deep Reinforcement Learning Nanodegree](https://www.udacity.com/course/deep-reinforcement-learning-nanodegree--nd893).\n",
    "\n",
    "### 1. Start the Environment\n",
    "\n",
    "We begin by importing some necessary packages.  If the code cell below returns an error, please revisit the project instructions to double-check that you have installed [Unity ML-Agents](https://github.com/Unity-Technologies/ml-agents/blob/master/docs/Installation.md) and [NumPy](http://www.numpy.org/)."
   ]
  },
  {
   "cell_type": "code",
   "execution_count": 1,
   "metadata": {},
   "outputs": [],
   "source": [
    "from unityagents import UnityEnvironment\n",
    "import numpy as np\n",
    "import matplotlib.pyplot as plt\n",
    "import torch\n",
    "from torch import nn\n",
    "from torch import optim\n",
    "import torch.nn.functional as F\n"
    "import random\n",
    "from collections import namedtuple, deque\n"
   ]
  },
  {
   "cell_type": "markdown",
   "metadata": {},
   "source": [
    "Next, we will start the environment!  **_Before running the code cell below_**, change the `file_name` parameter to match the location of the Unity environment that you downloaded.\n",
    "\n",
    "- **Mac**: `\"path/to/Banana.app\"`\n",
    "- **Windows** (x86): `\"path/to/Banana_Windows_x86/Banana.exe\"`\n",
    "- **Windows** (x86_64): `\"path/to/Banana_Windows_x86_64/Banana.exe\"`\n",
    "- **Linux** (x86): `\"path/to/Banana_Linux/Banana.x86\"`\n",
    "- **Linux** (x86_64): `\"path/to/Banana_Linux/Banana.x86_64\"`\n",
    "- **Linux** (x86, headless): `\"path/to/Banana_Linux_NoVis/Banana.x86\"`\n",
    "- **Linux** (x86_64, headless): `\"path/to/Banana_Linux_NoVis/Banana.x86_64\"`\n",
    "\n",
    "For instance, if you are using a Mac, then you downloaded `Banana.app`.  If this file is in the same folder as the notebook, then the line below should appear as follows:\n",
    "```\n",
    "env = UnityEnvironment(file_name=\"Banana.app\")\n",
    "```"
   ]
  },
  {
   "cell_type": "code",
   "execution_count": 2,
   "metadata": {
    "scrolled": true
   },
   "outputs": [
    {
     "name": "stderr",
     "output_type": "stream",
     "text": [
      "INFO:unityagents:\n",
      "'Academy' started successfully!\n",
      "Unity Academy name: Academy\n",
      "        Number of Brains: 1\n",
      "        Number of External Brains : 1\n",
      "        Lesson number : 0\n",
      "        Reset Parameters :\n",
      "\t\t\n",
      "Unity brain name: BananaBrain\n",
      "        Number of Visual Observations (per agent): 0\n",
      "        Vector Observation space type: continuous\n",
      "        Vector Observation space size (per agent): 37\n",
      "        Number of stacked Vector Observation: 1\n",
      "        Vector Action space type: discrete\n",
      "        Vector Action space size (per agent): 4\n",
      "        Vector Action descriptions: , , , \n"
     ]
    }
   ],
   "source": [
    "env = UnityEnvironment(file_name=\"*your_file_path*Banana.x86_64\")"
   ]
  },
  {
   "cell_type": "markdown",
   "metadata": {},
   "source": [
    "Environments contain **_brains_** which are responsible for deciding the actions of their associated agents. Here we check for the first brain available, and set it as the default brain we will be controlling from Python."
   ]
  },
  {
   "cell_type": "code",
   "execution_count": 3,
   "metadata": {},
   "outputs": [],
   "source": [
    "# get the default brain\n",
    "brain_name = env.brain_names[0]\n",
    "\n",
    "brain = env.brains[brain_name]\n"
   ]
  },
  {
   "cell_type": "markdown",
   "metadata": {},
   "source": [
    "### 2. Examine the State and Action Spaces\n",
    "\n",
    "The simulation contains a single agent that navigates a large environment.  At each time step, it has four actions at its disposal:\n",
    "- `0` - walk forward \n",
    "- `1` - walk backward\n",
    "- `2` - turn left\n",
    "- `3` - turn right\n",
    "\n",
    "The state space has `37` dimensions and contains the agent's velocity, along with ray-based perception of objects around agent's forward direction.  A reward of `+1` is provided for collecting a yellow banana, and a reward of `-1` is provided for collecting a blue banana. \n",
    "\n",
    "Run the code cell below to print some information about the environment."
   ]
  },
  {
   "cell_type": "code",
   "execution_count": null,
   "metadata": {},
   "outputs": [],
   "source": [
    "# reset the environment\n",
    "env_info = env.reset(train_mode=True)[brain_name]\n",
    "\n",
    "# number of agents in the environment\n",
    "print('Number of agents:', len(env_info.agents))\n",
    "\n",
    "# number of actions\n",
    "action_size = brain.vector_action_space_size\n",
    "print('Number of actions:', action_size)\n",
    "\n",
    "# examine the state space \n",
    "state = env_info.vector_observations[0]\n",
    "print('States look like:', state)\n",
    "state_size = len(state)\n",
    "print('States have length:', state_size)\n",
    "env_info.vector_observations[0]"
   ]
  },
  {
   "cell_type": "markdown",
   "metadata": {},
   "source": [
    "### 3. Take Random Actions in the Environment\n",
    "\n",
    "In the next code cell, you will learn how to use the Python API to control the agent and receive feedback from the environment.\n",
    "\n",
    "Once this cell is executed, you will watch the agent's performance, if it selects an action (uniformly) at random with each time step.  A window should pop up that allows you to observe the agent, as it moves through the environment.  \n",
    "\n",
    "Of course, as part of the project, you'll have to change the code so that the agent is able to use its experience to gradually choose better actions when interacting with the environment!"
   ]
  },
  {
   "cell_type": "code",
   "execution_count": null,
   "metadata": {},
   "outputs": [],
   "source": [
    "env_info = env.reset(train_mode=False)[brain_name] # reset the environment\n",
    "state = env_info.vector_observations[0]            # get the current state\n",
    "score = 0                                          # initialize the score\n",
    "while True:\n",
    "    action = np.random.randint(action_size)        # select an action\n",
    "    env_info = env.step(action)[brain_name]        # send the action to the environment\n",
    "    next_state = env_info.vector_observations[0]   # get the next state\n",
    "    reward = env_info.rewards[0]                   # get the reward\n",
    "    done = env_info.local_done[0]                  # see if episode has finished\n",
    "    score += reward                                # update the score\n",
    "    state = next_state                             # roll over the state to next time step\n",
    "    if done:                                       # exit loop if episode finished\n",
    "        break\n",
    "    \n",
    "print(\"Score: {}\".format(score))"
   ]
  },
  {
   "cell_type": "markdown",
   "metadata": {},
   "source": [
    "When finished, you can close the environment."
   ]
  },
  {
   "cell_type": "code",
   "execution_count": null,
   "metadata": {},
   "outputs": [],
   "source": [
    "env.close()"
   ]
  },
  {
   "cell_type": "markdown",
   "metadata": {},
   "source": [
    "### 4. It's Your Turn!\n",
    "\n",
    "Now it's your turn to train your own agent to solve the environment!  When training the environment, set `train_mode=True`, so that the line for resetting the environment looks like the following:\n",
    "```python\n",
    "env_info = env.reset(train_mode=True)[brain_name]\n",
    "```"
   ]
  },
  {
   "cell_type": "code",
   "execution_count": 7,
   "metadata": {},
   "outputs": [],
   "source": [
    "from DQNAgent import BananaCollector\n",
    "agent = BananaCollector(state_size=37,action_size=4,seed=0)"
   ]
  },
  {
   "cell_type": "code",
   "execution_count": 8,
   "metadata": {
    "scrolled": true
   },
   "outputs": [
    {
     "name": "stdout",
     "output_type": "stream",
     "text": [
      "Episode 100\tAverage Score: 0.42\n",
      "Episode 200\tAverage Score: 3.46\n",
      "Episode 300\tAverage Score: 6.89\n",
      "Episode 400\tAverage Score: 8.92\n",
      "Episode 492\tAverage Score: 13.02\n",
      "Environment solved in 392 episodes!\tAverage Score: 13.02\n"
     ]
    },
    {
     "data": {
      "image/png": "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\n",
      "text/plain": [
       "<Figure size 432x288 with 1 Axes>"
      ]
     },
     "metadata": {
      "needs_background": "light"
     },
     "output_type": "display_data"
    }
   ],
   "source": [
    "#Train the agent\n",
    "def Duelingdqn(n_episodes=2000, max_t=1000, eps_start=1.0, eps_end=0.01, eps_decay=0.995):\n",
    "    \"\"\"Double Deep Q-Learning.\n",
    "    \n",
    "    Params\n",
    "    ======\n",
    "        n_episodes (int): maximum number of training episodes\n",
    "        max_t (int): maximum number of timesteps per episode\n",
    "        eps_start (float): starting value of epsilon, for epsilon-greedy action selection\n",
    "        eps_end (float): minimum value of epsilon\n",
    "        eps_decay (float): multiplicative factor (per episode) for decreasing epsilon\n",
    "    \"\"\"\n",
    "    scores = []                        # list containing scores from each episode\n",
    "    scores_window = deque(maxlen=100)  # last 100 scores\n",
    "    eps = eps_start                    # initialize epsilon\n",
    "    for i_episode in range(1, n_episodes+1):\n",
    "        env_info = env.reset(train_mode=True)[brain_name]\n",
    "        state = env_info.vector_observations[0]     \n",
    "        score = 0\n",
    "        for t in range(max_t):\n",
    "            action = agent.select_action(state,eps) # send the action to the environment\n",
    "            env_info = env.step(action)[brain_name]\n",
    "            next_state = env_info.vector_observations[0]   # get the next state\n",
    "            reward = env_info.rewards[0]                   # get the reward\n",
    "            done = env_info.local_done[0]                  # see if episode has finished\n",
    "            agent.step(state, action, reward, next_state, done)\n",
    "            state = next_state\n",
    "            score += reward\n",
    "            if done:\n",
    "                break \n",
    "        scores_window.append(score)       # save most recent score\n",
    "        scores.append(score)              # save most recent score\n",
    "        eps = max(eps_end, eps_decay*eps) # decrease epsilon\n",
    "        print('\\rEpisode {}\\tAverage Score: {:.2f}'.format(i_episode, np.mean(scores_window)), end=\"\")\n",
    "        if i_episode % 100 == 0:\n",
    "            print('\\rEpisode {}\\tAverage Score: {:.2f}'.format(i_episode, np.mean(scores_window)))\n",
    "        if np.mean(scores_window)>=13.0:\n",
    "            print('\\nEnvironment solved in {:d} episodes!\\tAverage Score: {:.2f}'.format(i_episode-100, np.mean(scores_window)))\n",
    "            torch.save(agent.qnet_local.state_dict(), 'checkpointDuelingTest_5.pth')\n",
    "            break\n",
    "    return scores\n",
    "\n",
    "scores = Duelingdqn()\n",
    "\n",
    "# plot the scores\n",
    "fig = plt.figure()\n",
    "ax = fig.add_subplot(111)\n",
    "plt.plot(np.arange(len(scores)), scores)\n",
    "plt.ylabel('Score')\n",
    "plt.xlabel('Episode #')\n",
    "plt.show()\n",
    "    \n",
    "\n",
    "    \n",
    "    \n",
    "\n",
    "    \n",
    "    "
   ]
  },
  {
   "cell_type": "code",
   "execution_count": null,
   "metadata": {},
   "outputs": [],
   "source": [
    "agent.qnet_local.load_state_dict(torch.load('checkpointDuelingtest_5.pth'))\n",
    "\n",
    "for i in range(3):\n",
    "    env_info = env.reset(train_mode=False)[brain_name]\n",
    "    state = env_info.vector_observations[0]    \n",
    "    for j in range(200):\n",
    "        action = agent.select_action(state,epsilon=.95)\n",
    "        env_info = env.step(action)[brain_name]\n",
    "        next_state = env_info.vector_observations[0]   # get the next state\n",
    "        reward = env_info.rewards[0]                   # get the reward\n",
    "        done = env_info.local_done[0]                  # see if episode has finished\n",
    "        agent.step(state, action, reward, next_state, done)\n",
    "        if done:\n",
    "            break \n",
    "            \n",
    "env.close()"
   ]
  },
  {
   "cell_type": "code",
   "execution_count": null,
   "metadata": {},
   "outputs": [],
   "source": []
  },
  {
   "cell_type": "code",
   "execution_count": null,
   "metadata": {},
   "outputs": [],
   "source": []
  }
 ],
 "metadata": {
  "kernelspec": {
   "display_name": "drlnd",
   "language": "python",
   "name": "drlnd"
  },
  "language_info": {
   "codemirror_mode": {
    "name": "ipython",
    "version": 3
   },
   "file_extension": ".py",
   "mimetype": "text/x-python",
   "name": "python",
   "nbconvert_exporter": "python",
   "pygments_lexer": "ipython3",
   "version": "3.6.9"
  }
 },
 "nbformat": 4,
 "nbformat_minor": 2
}
